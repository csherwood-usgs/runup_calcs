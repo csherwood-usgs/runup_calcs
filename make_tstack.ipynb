{
 "cells": [
  {
   "cell_type": "code",
   "execution_count": 1,
   "id": "efc64ced-c709-4430-923d-9bb672cfb703",
   "metadata": {},
   "outputs": [],
   "source": [
    "from PIL import Image\n",
    "import numpy as np\n",
    "import matplotlib.pyplot as plt\n",
    "data_dir = 'D:/crs/proj/2019_CACO_CoastCam/Pixel_instruments/'\n",
    "image_name = data_dir+'1724765400.Tue.Aug.27_13_30_00.GMT.2024.CACO03.c2.snap.jpg'\n",
    "pixel_file = data_dir+'c2_timestack_short.pix'\n",
    "#pixel_file = data_dir+'pixcamera1madbeach_20230117_20_90_150_250_cBathy.pix'"
   ]
  },
  {
   "cell_type": "code",
   "execution_count": 2,
   "id": "c2dd516c-5062-4ea2-bbb4-0c35d98bbc02",
   "metadata": {},
   "outputs": [
    {
     "name": "stdout",
     "output_type": "stream",
     "text": [
      "117 2\n"
     ]
    }
   ],
   "source": [
    "lines = np.loadtxt(pixel_file, delimiter=\" \", unpack=False).astype(int)\n",
    "(nr, nc ) = np.shape(lines)\n",
    "print(nr, nc)"
   ]
  },
  {
   "cell_type": "code",
   "execution_count": 3,
   "id": "d7334a78-91ca-4ef8-9adf-754b4e52a0f9",
   "metadata": {},
   "outputs": [
    {
     "name": "stdout",
     "output_type": "stream",
     "text": [
      "(2048, 2448, 3)\n"
     ]
    }
   ],
   "source": [
    "image = Image.open( image_name )\n",
    "data = np.asarray( image )\n",
    "print(np.shape(data))"
   ]
  },
  {
   "cell_type": "code",
   "execution_count": 4,
   "id": "ef2c62c9-3d56-401d-a667-c7c64ef8c6ea",
   "metadata": {},
   "outputs": [
    {
     "name": "stdout",
     "output_type": "stream",
     "text": [
      "(1000, 117, 3)\n"
     ]
    }
   ],
   "source": [
    "nt = 1000\n",
    "tstack = np.zeros((nt, nr, 3), dtype=int )\n",
    "print(np.shape(tstack))"
   ]
  },
  {
   "cell_type": "code",
   "execution_count": null,
   "id": "4d9c2488-2b27-43d0-9cab-2b9c8896c613",
   "metadata": {},
   "outputs": [],
   "source": [
    "%%time\n",
    "for j in range(nt):\n",
    "    image = Image.open( image_name )\n",
    "    data = np.asarray( image )\n",
    "    for i in range(nr):\n",
    "        tstack[j,i,:] = (data[lines[i,1],lines[i,0],:])"
   ]
  },
  {
   "cell_type": "code",
   "execution_count": null,
   "id": "25e80653-30b6-4e56-9698-d9c8cc236c74",
   "metadata": {},
   "outputs": [],
   "source": [
    "tsimage = Image.fromarray(tstack.astype(np.uint8).transpose(0,1,2) )\n",
    "plt.imshow(tsimage)"
   ]
  },
  {
   "cell_type": "code",
   "execution_count": null,
   "id": "c5dcef50-1817-4380-972f-db5e8112bdab",
   "metadata": {},
   "outputs": [],
   "source": []
  }
 ],
 "metadata": {
  "kernelspec": {
   "display_name": "Python 3 (ipykernel)",
   "language": "python",
   "name": "python3"
  },
  "language_info": {
   "codemirror_mode": {
    "name": "ipython",
    "version": 3
   },
   "file_extension": ".py",
   "mimetype": "text/x-python",
   "name": "python",
   "nbconvert_exporter": "python",
   "pygments_lexer": "ipython3",
   "version": "3.10.14"
  }
 },
 "nbformat": 4,
 "nbformat_minor": 5
}
